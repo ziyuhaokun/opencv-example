{
 "cells": [
  {
   "cell_type": "markdown",
   "metadata": {},
   "source": [
    "# 07.图像的创建\n"
   ]
  },
  {
   "cell_type": "code",
   "execution_count": 1,
   "metadata": {},
   "outputs": [],
   "source": [
    "import os\n",
    "import cv2\n",
    "\n",
    "import numpy as np\n",
    "import matplotlib.pyplot as plt"
   ]
  },
  {
   "cell_type": "code",
   "execution_count": 3,
   "metadata": {},
   "outputs": [
    {
     "ename": "",
     "evalue": "",
     "output_type": "error",
     "traceback": [
      "\u001b[1;31mThe Kernel crashed while executing code in the the current cell or a previous cell. Please review the code in the cell(s) to identify a possible cause of the failure. Click <a href='https://aka.ms/vscodeJupyterKernelCrash'>here</a> for more info. View Jupyter <a href='command:jupyter.viewOutput'>log</a> for further details."
     ]
    }
   ],
   "source": [
    "h,w,c = 400,300,3\n",
    "\n",
    "img_empty = np.empty((h,w,c),np.uint8)\n",
    "img_black = np.zeros((h,w,c),np.uint8)\n",
    "img_white = np.ones((h,w,c),np.uint8) * 255\n",
    "\n",
    "# 创建相同形状的多维数组\n",
    "img01 = cv2.imread(\"./data/1_BF.jpg\",1)\n",
    "img_black_like = np.zeros_like(img01)\n",
    "img_white_like = np.ones_like(img01) * 255\n",
    "\n",
    "# 随机颜色\n",
    "random_byte_arr = bytearray(os.urandom(h * w * c))\n",
    "flat_num_arr = np.array(random_byte_arr)\n",
    "img_rgb = flat_num_arr.reshape(h,w,c)\n",
    "\n",
    "# 创建灰度图片\n",
    "img_gray_white = np.ones((h,w),np.uint8) * 255\n",
    "img_gray_black = np.zeros((h,w,c),np.uint8)\n",
    "img_gray_eye = np.eye(w)\n",
    "\n",
    "random_byte_arr = bytearray(os.urandom(h*w))\n",
    "flat_num_arr = np.array(random_byte_arr)\n",
    "img_gray_rand = flat_num_arr.reshape(h,w)\n",
    "\n",
    "cv2.imshow(\"Gray\",img_rgb)\n",
    "cv2.imshow(\"RGB\",img_gray_rand)\n",
    "cv2.imshow(\"Black\",img_black)"
   ]
  },
  {
   "cell_type": "code",
   "execution_count": null,
   "metadata": {},
   "outputs": [],
   "source": []
  }
 ],
 "metadata": {
  "kernelspec": {
   "display_name": "Python 3.11.0 64-bit",
   "language": "python",
   "name": "python3"
  },
  "language_info": {
   "codemirror_mode": {
    "name": "ipython",
    "version": 3
   },
   "file_extension": ".py",
   "mimetype": "text/x-python",
   "name": "python",
   "nbconvert_exporter": "python",
   "pygments_lexer": "ipython3",
   "version": "3.11.0"
  },
  "orig_nbformat": 4,
  "vscode": {
   "interpreter": {
    "hash": "ff4b1fca65a764b45acb559e482afe389d289dd599b9f8c5fd12ff5c2ea46a65"
   }
  }
 },
 "nbformat": 4,
 "nbformat_minor": 2
}

{
 "cells": [
  {
   "cell_type": "markdown",
   "metadata": {},
   "source": [
    "# 05.图像的属性"
   ]
  },
  {
   "cell_type": "code",
   "execution_count": 2,
   "metadata": {},
   "outputs": [],
   "source": [
    "import os\n",
    "import cv2\n",
    "import numpy as np\n",
    "import matplotlib.pyplot as plt\n"
   ]
  },
  {
   "cell_type": "markdown",
   "metadata": {},
   "source": [
    "\\033[0;31;40m  \\033[0m"
   ]
  },
  {
   "cell_type": "code",
   "execution_count": 3,
   "metadata": {},
   "outputs": [
    {
     "name": "stdout",
     "output_type": "stream",
     "text": [
      "\u001b[0;31;40m Ndim of img1(BGR): 3, img2(Gray): 2 \u001b[0m\n",
      "\u001b[0;31;40m Shape of img1(BGR): (3000, 4096, 3), img2(Gray): (3000, 4096) \u001b[0m\n",
      "\u001b[0;31;40m Size of img1(BGR): 36864000, img2(Gray): 12288000 \u001b[0m\n",
      "\u001b[0;31;40m Dtype of img1(BGR): uint8, img2(Gray): uint8 \u001b[0m\n"
     ]
    }
   ],
   "source": [
    "img_color = cv2.imread(\"./dataplt/dapi.png\",1)\n",
    "img_gray = cv2.imread(\"./dataplt/dapi.png\",0)\n",
    "\n",
    "\n",
    " # 维数(ndim), 形状(shape), 元素总数(size), 元素类型(dtype)\n",
    "print(\"\\033[0;31;40m Ndim of img1(BGR): {}, img2(Gray): {} \\033[0m\".format(img_color.ndim, img_gray.ndim))  # number of rows, columns and channels\n",
    "print(\"\\033[0;31;40m Shape of img1(BGR): {}, img2(Gray): {} \\033[0m\".format(img_color.shape, img_gray.shape))  # number of rows, columns and channels\n",
    "print(\"\\033[0;31;40m Size of img1(BGR): {}, img2(Gray): {} \\033[0m\".format(img_color.size, img_gray.size))  # size = rows * columns * channels\n",
    "print(\"\\033[0;31;40m Dtype of img1(BGR): {}, img2(Gray): {} \\033[0m\".format(img_color.dtype, img_gray.dtype))  # uint8"
   ]
  },
  {
   "cell_type": "code",
   "execution_count": null,
   "metadata": {},
   "outputs": [],
   "source": []
  }
 ],
 "metadata": {
  "kernelspec": {
   "display_name": "Python 3.11.0 64-bit",
   "language": "python",
   "name": "python3"
  },
  "language_info": {
   "codemirror_mode": {
    "name": "ipython",
    "version": 3
   },
   "file_extension": ".py",
   "mimetype": "text/x-python",
   "name": "python",
   "nbconvert_exporter": "python",
   "pygments_lexer": "ipython3",
   "version": "3.11.0"
  },
  "orig_nbformat": 4,
  "vscode": {
   "interpreter": {
    "hash": "ff4b1fca65a764b45acb559e482afe389d289dd599b9f8c5fd12ff5c2ea46a65"
   }
  }
 },
 "nbformat": 4,
 "nbformat_minor": 2
}

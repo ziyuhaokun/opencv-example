{
 "cells": [
  {
   "cell_type": "markdown",
   "metadata": {},
   "source": [
    "# 06.像素的编辑"
   ]
  },
  {
   "cell_type": "code",
   "execution_count": 1,
   "metadata": {},
   "outputs": [],
   "source": [
    "import cv2\n",
    "import numpy as np"
   ]
  },
  {
   "cell_type": "code",
   "execution_count": 6,
   "metadata": {},
   "outputs": [
    {
     "name": "stdout",
     "output_type": "stream",
     "text": [
      "x=10, y=10\n",
      "img[x,y] = [61 61 61]\n",
      "img[10,10,ch]\n",
      "61 61 61 \n",
      "61\n",
      "255\n"
     ]
    }
   ],
   "source": [
    "img01 = cv2.imread(\"./dataplt/dapi.png\",1)\n",
    "\n",
    "x,y = 10,10\n",
    "\n",
    "pxGBR = img01[x,y]\n",
    "\n",
    "print(f\"x={x}, y={y}\\nimg[x,y] = {img01[x,y]}\")\n",
    "\n",
    "print(f\"img[{x},{y},ch]\")\n",
    "\n",
    "for i in range(3):\n",
    "    print(img01[x,y,i],end=' ')\n",
    "    \n",
    "print()\n",
    "\n",
    "print(img01.item(x,y,0))\n",
    "\n",
    "img01.itemset((x,y,0),255)\n",
    "print(img01.item(x,y,0))"
   ]
  },
  {
   "cell_type": "code",
   "execution_count": null,
   "metadata": {},
   "outputs": [],
   "source": []
  }
 ],
 "metadata": {
  "kernelspec": {
   "display_name": "Python 3.11.0 64-bit",
   "language": "python",
   "name": "python3"
  },
  "language_info": {
   "codemirror_mode": {
    "name": "ipython",
    "version": 3
   },
   "file_extension": ".py",
   "mimetype": "text/x-python",
   "name": "python",
   "nbconvert_exporter": "python",
   "pygments_lexer": "ipython3",
   "version": "3.11.0"
  },
  "orig_nbformat": 4,
  "vscode": {
   "interpreter": {
    "hash": "ff4b1fca65a764b45acb559e482afe389d289dd599b9f8c5fd12ff5c2ea46a65"
   }
  }
 },
 "nbformat": 4,
 "nbformat_minor": 2
}
